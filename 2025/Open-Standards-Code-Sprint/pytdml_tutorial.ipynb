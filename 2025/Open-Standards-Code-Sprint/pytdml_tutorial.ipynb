{
 "cells": [
  {
   "metadata": {},
   "cell_type": "markdown",
   "source": [
    "# pytdml tutorial\n",
    "\n",
    "This tutorial will guide you through the basic functionalities of the pytdml library.\n",
    "\n",
    "The pytdml library is a Python library that provides tools to create, read, and convert datasets in the TrainingDML-AI format.\n",
    "\n",
    "## TrainingDML-AI\n",
    "\n",
    "The full name of the standard is Training Data Markup Language for Artificial Intelligence, and the name could be even longer, because at the moment focuses only in modelling training datasets for deep learning models in the Earth Observation domain. It is a UML model with encodings in JSON and XML,\n",
    "\n",
    "The fundamental problem that the TrainingDML-AI standard is trying to solve is the lack of a common format for training datasets and improve the reusability, provenance, and interoperability of training datasets. Training data is not uniform or universal, depending on the task and the nature of the objects that we are observing, the usability of the data might vary in great length. For example, if we do have a dataset of rooftops from Lisbon, it will most likely not be useful for a model that is trying to detect rooftops in Bangalore, while it could have some high degree of usefulness to detect rooftops in Madrid. Both the task and the applicability, and ideally the usage in past models, should be something that we can easily access and understand.\n",
    "\n",
    "TrainingDML builds upon already existing standards, mainly the ISO 19100 family of standards.\n",
    "\n",
    "<img src=\"https://raw.githubusercontent.com/opengeospatial/TrainingDML-AI_SWG/main/standard/part1/figures/uml_model_iso.jpg\" alt=\"ISO standards used in TDML\" width=\"60%\" height=\"100%\">\n",
    "\n",
    "\n",
    "The following graph shows the most important concepts in the TrainingDML-AI standard:\n",
    "\n",
    "<img src=\"https://raw.githubusercontent.com/opengeospatial/TrainingDML-AI_SWG/main/standard/part1/figures/overview_modularization.jpg\" alt=\"TrainingDML-AI Modularization\" width=\"60%\" height=\"100%\">\n",
    "\n",
    "For more information about the standard, please visit the official [OGC Publication page](https://www.ogc.org/publications/standard/trainingdml-ai/) or the [GitHub repository](https://github.com/opengeospatial/TrainingDML-AI_SWG).\n",
    "\n",
    "## Installation\n",
    "\n",
    "First, let's manually check the python version, as the library is only compatible with Python 3.9 and 3.10"
   ],
   "id": "d1766e0e2bf9dc40"
  },
  {
   "metadata": {
    "ExecuteTime": {
     "end_time": "2025-03-25T11:07:43.547508Z",
     "start_time": "2025-03-25T11:07:42.631661Z"
    }
   },
   "cell_type": "code",
   "source": [
    "import sys\n",
    "from urllib.request import parse_http_list\n",
    "\n",
    "if (3, 9) > sys.version_info >= (3, 11):\n",
    "    exit(\"Python version should be 3.9 or 3.10\")\n",
    "\n",
    "# We will also need to install the wget library to download some files\n",
    "!pip install wget"
   ],
   "id": "c2fabb3e4a9c6313",
   "outputs": [
    {
     "name": "stdout",
     "output_type": "stream",
     "text": [
      "Collecting wget\r\n",
      "  Using cached wget-3.2-py3-none-any.whl\r\n",
      "Installing collected packages: wget\r\n",
      "Successfully installed wget-3.2\r\n"
     ]
    }
   ],
   "execution_count": 1
  },
  {
   "metadata": {},
   "cell_type": "markdown",
   "source": [
    "We will be installing the version in GitHub, as it includes many improvements and bug fixes that are still not released in pypi.\n",
    "\n",
    "The first command will install the library and the basic dependencies:"
   ],
   "id": "8ac4413531aaa3f7"
  },
  {
   "metadata": {},
   "cell_type": "code",
   "source": "!pip install pytdml@git+https://github.com/openrsgis/pytdml.git",
   "id": "7157bbf0de83391f",
   "outputs": [],
   "execution_count": null
  },
  {
   "metadata": {},
   "cell_type": "markdown",
   "source": [
    "The following command will install the library with the torch and tensoflow dependencies, that are required\n",
    "for the extended functionalities in `pytdml.ml`:"
   ],
   "id": "8ff9ec76e23b60f7"
  },
  {
   "metadata": {
    "ExecuteTime": {
     "end_time": "2025-03-25T11:09:10.347759Z",
     "start_time": "2025-03-25T11:08:06.646595Z"
    }
   },
   "cell_type": "code",
   "source": "!pip install pytdml[torch]@git+https://github.com/openrsgis/pytdml.git",
   "id": "6715db62dc875445",
   "outputs": [
    {
     "name": "stdout",
     "output_type": "stream",
     "text": [
      "Collecting pytdml@ git+https://github.com/openrsgis/pytdml.git (from pytdml[torch]@ git+https://github.com/openrsgis/pytdml.git)\r\n",
      "  Cloning https://github.com/openrsgis/pytdml.git to /tmp/pip-install-x6digtt3/pytdml_ad503ab2790e429fa52af724f18b315a\r\n",
      "  Running command git clone --filter=blob:none --quiet https://github.com/openrsgis/pytdml.git /tmp/pip-install-x6digtt3/pytdml_ad503ab2790e429fa52af724f18b315a\r\n",
      "  Resolved https://github.com/openrsgis/pytdml.git to commit 20b5b4355ed2ea9c33d4cf7c80d8dfb4be30c834\r\n",
      "  Installing build dependencies ... \u001B[?25ldone\r\n",
      "\u001B[?25h  Getting requirements to build wheel ... \u001B[?25ldone\r\n",
      "\u001B[?25h  Preparing metadata (pyproject.toml) ... \u001B[?25ldone\r\n",
      "\u001B[?25hCollecting geojson~=3.1.0 (from pytdml@ git+https://github.com/openrsgis/pytdml.git->pytdml[torch]@ git+https://github.com/openrsgis/pytdml.git)\r\n",
      "  Using cached geojson-3.1.0-py3-none-any.whl.metadata (16 kB)\r\n",
      "Collecting Pillow~=10.4.0 (from pytdml@ git+https://github.com/openrsgis/pytdml.git->pytdml[torch]@ git+https://github.com/openrsgis/pytdml.git)\r\n",
      "  Using cached pillow-10.4.0-cp310-cp310-manylinux_2_28_x86_64.whl.metadata (9.2 kB)\r\n",
      "Requirement already satisfied: PyYAML~=6.0.2 in /home/boo/.virtualenvs/ogc-events/lib/python3.10/site-packages (from pytdml@ git+https://github.com/openrsgis/pytdml.git->pytdml[torch]@ git+https://github.com/openrsgis/pytdml.git) (6.0.2)\r\n",
      "Collecting numpy~=1.26.4 (from pytdml@ git+https://github.com/openrsgis/pytdml.git->pytdml[torch]@ git+https://github.com/openrsgis/pytdml.git)\r\n",
      "  Using cached numpy-1.26.4-cp310-cp310-manylinux_2_17_x86_64.manylinux2014_x86_64.whl.metadata (61 kB)\r\n",
      "Collecting opencv-python~=4.10.0.84 (from pytdml@ git+https://github.com/openrsgis/pytdml.git->pytdml[torch]@ git+https://github.com/openrsgis/pytdml.git)\r\n",
      "  Using cached opencv_python-4.10.0.84-cp37-abi3-manylinux_2_17_x86_64.manylinux2014_x86_64.whl.metadata (20 kB)\r\n",
      "Requirement already satisfied: jsonschema~=4.23.0 in /home/boo/.virtualenvs/ogc-events/lib/python3.10/site-packages (from pytdml@ git+https://github.com/openrsgis/pytdml.git->pytdml[torch]@ git+https://github.com/openrsgis/pytdml.git) (4.23.0)\r\n",
      "Collecting typing_extensions~=4.11.0 (from pytdml@ git+https://github.com/openrsgis/pytdml.git->pytdml[torch]@ git+https://github.com/openrsgis/pytdml.git)\r\n",
      "  Using cached typing_extensions-4.11.0-py3-none-any.whl.metadata (3.0 kB)\r\n",
      "Requirement already satisfied: requests~=2.32.3 in /home/boo/.virtualenvs/ogc-events/lib/python3.10/site-packages (from pytdml@ git+https://github.com/openrsgis/pytdml.git->pytdml[torch]@ git+https://github.com/openrsgis/pytdml.git) (2.32.3)\r\n",
      "Collecting pydantic~=2.8.2 (from pytdml@ git+https://github.com/openrsgis/pytdml.git->pytdml[torch]@ git+https://github.com/openrsgis/pytdml.git)\r\n",
      "  Using cached pydantic-2.8.2-py3-none-any.whl.metadata (125 kB)\r\n",
      "Collecting urllib3~=1.25.4 (from pytdml@ git+https://github.com/openrsgis/pytdml.git->pytdml[torch]@ git+https://github.com/openrsgis/pytdml.git)\r\n",
      "  Using cached urllib3-1.25.11-py2.py3-none-any.whl.metadata (41 kB)\r\n",
      "Collecting rasterio~=1.3.10 (from pytdml@ git+https://github.com/openrsgis/pytdml.git->pytdml[torch]@ git+https://github.com/openrsgis/pytdml.git)\r\n",
      "  Using cached rasterio-1.3.11-cp310-cp310-manylinux_2_17_x86_64.manylinux2014_x86_64.whl.metadata (14 kB)\r\n",
      "Collecting matplotlib~=3.9.1 (from pytdml@ git+https://github.com/openrsgis/pytdml.git->pytdml[torch]@ git+https://github.com/openrsgis/pytdml.git)\r\n",
      "  Using cached matplotlib-3.9.4-cp310-cp310-manylinux_2_17_x86_64.manylinux2014_x86_64.whl.metadata (11 kB)\r\n",
      "Collecting minio~=7.2.7 (from pytdml@ git+https://github.com/openrsgis/pytdml.git->pytdml[torch]@ git+https://github.com/openrsgis/pytdml.git)\r\n",
      "  Using cached minio-7.2.15-py3-none-any.whl.metadata (6.7 kB)\r\n",
      "Collecting tqdm~=4.66.4 (from pytdml@ git+https://github.com/openrsgis/pytdml.git->pytdml[torch]@ git+https://github.com/openrsgis/pytdml.git)\r\n",
      "  Using cached tqdm-4.66.6-py3-none-any.whl.metadata (57 kB)\r\n",
      "Collecting s3fs~=2024.9.0 (from pytdml@ git+https://github.com/openrsgis/pytdml.git->pytdml[torch]@ git+https://github.com/openrsgis/pytdml.git)\r\n",
      "  Using cached s3fs-2024.9.0-py3-none-any.whl.metadata (1.6 kB)\r\n",
      "Collecting pystac~=1.10.1 (from pytdml@ git+https://github.com/openrsgis/pytdml.git->pytdml[torch]@ git+https://github.com/openrsgis/pytdml.git)\r\n",
      "  Using cached pystac-1.10.1-py3-none-any.whl.metadata (6.4 kB)\r\n",
      "Collecting boto3~=1.34.69 (from pytdml@ git+https://github.com/openrsgis/pytdml.git->pytdml[torch]@ git+https://github.com/openrsgis/pytdml.git)\r\n",
      "  Using cached boto3-1.34.162-py3-none-any.whl.metadata (6.6 kB)\r\n",
      "Collecting torch~=2.3.1 (from pytdml@ git+https://github.com/openrsgis/pytdml.git->pytdml[torch]@ git+https://github.com/openrsgis/pytdml.git)\r\n",
      "  Using cached torch-2.3.1-cp310-cp310-manylinux1_x86_64.whl.metadata (26 kB)\r\n",
      "Collecting torchvision~=0.18.1 (from pytdml@ git+https://github.com/openrsgis/pytdml.git->pytdml[torch]@ git+https://github.com/openrsgis/pytdml.git)\r\n",
      "  Using cached torchvision-0.18.1-cp310-cp310-manylinux1_x86_64.whl.metadata (6.6 kB)\r\n",
      "Collecting torchdata~=0.7.1 (from pytdml@ git+https://github.com/openrsgis/pytdml.git->pytdml[torch]@ git+https://github.com/openrsgis/pytdml.git)\r\n",
      "  Using cached torchdata-0.7.1-cp310-cp310-manylinux_2_17_x86_64.manylinux2014_x86_64.whl.metadata (13 kB)\r\n",
      "Collecting tensorflow~=2.17.0 (from pytdml@ git+https://github.com/openrsgis/pytdml.git->pytdml[torch]@ git+https://github.com/openrsgis/pytdml.git)\r\n",
      "  Using cached tensorflow-2.17.1-cp310-cp310-manylinux_2_17_x86_64.manylinux2014_x86_64.whl.metadata (4.2 kB)\r\n",
      "Collecting tensorflow_io~=0.36.0 (from pytdml@ git+https://github.com/openrsgis/pytdml.git->pytdml[torch]@ git+https://github.com/openrsgis/pytdml.git)\r\n",
      "  Using cached tensorflow_io-0.36.0-cp310-cp310-manylinux_2_17_x86_64.manylinux2014_x86_64.whl.metadata (14 kB)\r\n",
      "Collecting botocore<1.35.0,>=1.34.162 (from boto3~=1.34.69->pytdml@ git+https://github.com/openrsgis/pytdml.git->pytdml[torch]@ git+https://github.com/openrsgis/pytdml.git)\r\n",
      "  Using cached botocore-1.34.162-py3-none-any.whl.metadata (5.7 kB)\r\n",
      "Collecting jmespath<2.0.0,>=0.7.1 (from boto3~=1.34.69->pytdml@ git+https://github.com/openrsgis/pytdml.git->pytdml[torch]@ git+https://github.com/openrsgis/pytdml.git)\r\n",
      "  Using cached jmespath-1.0.1-py3-none-any.whl.metadata (7.6 kB)\r\n",
      "Collecting s3transfer<0.11.0,>=0.10.0 (from boto3~=1.34.69->pytdml@ git+https://github.com/openrsgis/pytdml.git->pytdml[torch]@ git+https://github.com/openrsgis/pytdml.git)\r\n",
      "  Using cached s3transfer-0.10.4-py3-none-any.whl.metadata (1.7 kB)\r\n",
      "Requirement already satisfied: attrs>=22.2.0 in /home/boo/.virtualenvs/ogc-events/lib/python3.10/site-packages (from jsonschema~=4.23.0->pytdml@ git+https://github.com/openrsgis/pytdml.git->pytdml[torch]@ git+https://github.com/openrsgis/pytdml.git) (25.3.0)\r\n",
      "Requirement already satisfied: jsonschema-specifications>=2023.03.6 in /home/boo/.virtualenvs/ogc-events/lib/python3.10/site-packages (from jsonschema~=4.23.0->pytdml@ git+https://github.com/openrsgis/pytdml.git->pytdml[torch]@ git+https://github.com/openrsgis/pytdml.git) (2024.10.1)\r\n",
      "Requirement already satisfied: referencing>=0.28.4 in /home/boo/.virtualenvs/ogc-events/lib/python3.10/site-packages (from jsonschema~=4.23.0->pytdml@ git+https://github.com/openrsgis/pytdml.git->pytdml[torch]@ git+https://github.com/openrsgis/pytdml.git) (0.36.2)\r\n",
      "Requirement already satisfied: rpds-py>=0.7.1 in /home/boo/.virtualenvs/ogc-events/lib/python3.10/site-packages (from jsonschema~=4.23.0->pytdml@ git+https://github.com/openrsgis/pytdml.git->pytdml[torch]@ git+https://github.com/openrsgis/pytdml.git) (0.23.1)\r\n",
      "Collecting contourpy>=1.0.1 (from matplotlib~=3.9.1->pytdml@ git+https://github.com/openrsgis/pytdml.git->pytdml[torch]@ git+https://github.com/openrsgis/pytdml.git)\r\n",
      "  Using cached contourpy-1.3.1-cp310-cp310-manylinux_2_17_x86_64.manylinux2014_x86_64.whl.metadata (5.4 kB)\r\n",
      "Collecting cycler>=0.10 (from matplotlib~=3.9.1->pytdml@ git+https://github.com/openrsgis/pytdml.git->pytdml[torch]@ git+https://github.com/openrsgis/pytdml.git)\r\n",
      "  Using cached cycler-0.12.1-py3-none-any.whl.metadata (3.8 kB)\r\n",
      "Collecting fonttools>=4.22.0 (from matplotlib~=3.9.1->pytdml@ git+https://github.com/openrsgis/pytdml.git->pytdml[torch]@ git+https://github.com/openrsgis/pytdml.git)\r\n",
      "  Using cached fonttools-4.56.0-cp310-cp310-manylinux_2_17_x86_64.manylinux2014_x86_64.whl.metadata (101 kB)\r\n",
      "Collecting kiwisolver>=1.3.1 (from matplotlib~=3.9.1->pytdml@ git+https://github.com/openrsgis/pytdml.git->pytdml[torch]@ git+https://github.com/openrsgis/pytdml.git)\r\n",
      "  Using cached kiwisolver-1.4.8-cp310-cp310-manylinux_2_12_x86_64.manylinux2010_x86_64.whl.metadata (6.2 kB)\r\n",
      "Requirement already satisfied: packaging>=20.0 in /home/boo/.virtualenvs/ogc-events/lib/python3.10/site-packages (from matplotlib~=3.9.1->pytdml@ git+https://github.com/openrsgis/pytdml.git->pytdml[torch]@ git+https://github.com/openrsgis/pytdml.git) (24.2)\r\n",
      "Collecting pyparsing>=2.3.1 (from matplotlib~=3.9.1->pytdml@ git+https://github.com/openrsgis/pytdml.git->pytdml[torch]@ git+https://github.com/openrsgis/pytdml.git)\r\n",
      "  Downloading pyparsing-3.2.3-py3-none-any.whl.metadata (5.0 kB)\r\n",
      "Requirement already satisfied: python-dateutil>=2.7 in /home/boo/.virtualenvs/ogc-events/lib/python3.10/site-packages (from matplotlib~=3.9.1->pytdml@ git+https://github.com/openrsgis/pytdml.git->pytdml[torch]@ git+https://github.com/openrsgis/pytdml.git) (2.9.0.post0)\r\n",
      "Requirement already satisfied: certifi in /home/boo/.virtualenvs/ogc-events/lib/python3.10/site-packages (from minio~=7.2.7->pytdml@ git+https://github.com/openrsgis/pytdml.git->pytdml[torch]@ git+https://github.com/openrsgis/pytdml.git) (2025.1.31)\r\n",
      "Requirement already satisfied: argon2-cffi in /home/boo/.virtualenvs/ogc-events/lib/python3.10/site-packages (from minio~=7.2.7->pytdml@ git+https://github.com/openrsgis/pytdml.git->pytdml[torch]@ git+https://github.com/openrsgis/pytdml.git) (23.1.0)\r\n",
      "Collecting pycryptodome (from minio~=7.2.7->pytdml@ git+https://github.com/openrsgis/pytdml.git->pytdml[torch]@ git+https://github.com/openrsgis/pytdml.git)\r\n",
      "  Using cached pycryptodome-3.22.0-cp37-abi3-manylinux_2_17_x86_64.manylinux2014_x86_64.whl.metadata (3.4 kB)\r\n",
      "Collecting annotated-types>=0.4.0 (from pydantic~=2.8.2->pytdml@ git+https://github.com/openrsgis/pytdml.git->pytdml[torch]@ git+https://github.com/openrsgis/pytdml.git)\r\n",
      "  Using cached annotated_types-0.7.0-py3-none-any.whl.metadata (15 kB)\r\n",
      "Collecting pydantic-core==2.20.1 (from pydantic~=2.8.2->pytdml@ git+https://github.com/openrsgis/pytdml.git->pytdml[torch]@ git+https://github.com/openrsgis/pytdml.git)\r\n",
      "  Using cached pydantic_core-2.20.1-cp310-cp310-manylinux_2_17_x86_64.manylinux2014_x86_64.whl.metadata (6.6 kB)\r\n",
      "Collecting affine (from rasterio~=1.3.10->pytdml@ git+https://github.com/openrsgis/pytdml.git->pytdml[torch]@ git+https://github.com/openrsgis/pytdml.git)\r\n",
      "  Using cached affine-2.4.0-py3-none-any.whl.metadata (4.0 kB)\r\n",
      "Collecting click>=4.0 (from rasterio~=1.3.10->pytdml@ git+https://github.com/openrsgis/pytdml.git->pytdml[torch]@ git+https://github.com/openrsgis/pytdml.git)\r\n",
      "  Using cached click-8.1.8-py3-none-any.whl.metadata (2.3 kB)\r\n",
      "Collecting cligj>=0.5 (from rasterio~=1.3.10->pytdml@ git+https://github.com/openrsgis/pytdml.git->pytdml[torch]@ git+https://github.com/openrsgis/pytdml.git)\r\n",
      "  Using cached cligj-0.7.2-py3-none-any.whl.metadata (5.0 kB)\r\n",
      "Collecting snuggs>=1.4.1 (from rasterio~=1.3.10->pytdml@ git+https://github.com/openrsgis/pytdml.git->pytdml[torch]@ git+https://github.com/openrsgis/pytdml.git)\r\n",
      "  Using cached snuggs-1.4.7-py3-none-any.whl.metadata (3.4 kB)\r\n",
      "Collecting click-plugins (from rasterio~=1.3.10->pytdml@ git+https://github.com/openrsgis/pytdml.git->pytdml[torch]@ git+https://github.com/openrsgis/pytdml.git)\r\n",
      "  Using cached click_plugins-1.1.1-py2.py3-none-any.whl.metadata (6.4 kB)\r\n",
      "Requirement already satisfied: setuptools in /home/boo/.virtualenvs/ogc-events/lib/python3.10/site-packages (from rasterio~=1.3.10->pytdml@ git+https://github.com/openrsgis/pytdml.git->pytdml[torch]@ git+https://github.com/openrsgis/pytdml.git) (75.8.2)\r\n",
      "Requirement already satisfied: charset-normalizer<4,>=2 in /home/boo/.virtualenvs/ogc-events/lib/python3.10/site-packages (from requests~=2.32.3->pytdml@ git+https://github.com/openrsgis/pytdml.git->pytdml[torch]@ git+https://github.com/openrsgis/pytdml.git) (3.4.1)\r\n",
      "Requirement already satisfied: idna<4,>=2.5 in /home/boo/.virtualenvs/ogc-events/lib/python3.10/site-packages (from requests~=2.32.3->pytdml@ git+https://github.com/openrsgis/pytdml.git->pytdml[torch]@ git+https://github.com/openrsgis/pytdml.git) (3.10)\r\n",
      "Collecting aiobotocore<3.0.0,>=2.5.4 (from s3fs~=2024.9.0->pytdml@ git+https://github.com/openrsgis/pytdml.git->pytdml[torch]@ git+https://github.com/openrsgis/pytdml.git)\r\n",
      "  Using cached aiobotocore-2.21.1-py3-none-any.whl.metadata (24 kB)\r\n",
      "Collecting fsspec==2024.9.0.* (from s3fs~=2024.9.0->pytdml@ git+https://github.com/openrsgis/pytdml.git->pytdml[torch]@ git+https://github.com/openrsgis/pytdml.git)\r\n",
      "  Using cached fsspec-2024.9.0-py3-none-any.whl.metadata (11 kB)\r\n",
      "Collecting aiohttp!=4.0.0a0,!=4.0.0a1 (from s3fs~=2024.9.0->pytdml@ git+https://github.com/openrsgis/pytdml.git->pytdml[torch]@ git+https://github.com/openrsgis/pytdml.git)\r\n",
      "  Using cached aiohttp-3.11.14-cp310-cp310-manylinux_2_17_x86_64.manylinux2014_x86_64.whl.metadata (7.7 kB)\r\n",
      "Collecting absl-py>=1.0.0 (from tensorflow~=2.17.0->pytdml@ git+https://github.com/openrsgis/pytdml.git->pytdml[torch]@ git+https://github.com/openrsgis/pytdml.git)\r\n",
      "  Using cached absl_py-2.2.0-py3-none-any.whl.metadata (2.4 kB)\r\n",
      "Collecting astunparse>=1.6.0 (from tensorflow~=2.17.0->pytdml@ git+https://github.com/openrsgis/pytdml.git->pytdml[torch]@ git+https://github.com/openrsgis/pytdml.git)\r\n",
      "  Using cached astunparse-1.6.3-py2.py3-none-any.whl.metadata (4.4 kB)\r\n",
      "Collecting flatbuffers>=24.3.25 (from tensorflow~=2.17.0->pytdml@ git+https://github.com/openrsgis/pytdml.git->pytdml[torch]@ git+https://github.com/openrsgis/pytdml.git)\r\n",
      "  Using cached flatbuffers-25.2.10-py2.py3-none-any.whl.metadata (875 bytes)\r\n",
      "Collecting gast!=0.5.0,!=0.5.1,!=0.5.2,>=0.2.1 (from tensorflow~=2.17.0->pytdml@ git+https://github.com/openrsgis/pytdml.git->pytdml[torch]@ git+https://github.com/openrsgis/pytdml.git)\r\n",
      "  Using cached gast-0.6.0-py3-none-any.whl.metadata (1.3 kB)\r\n",
      "Collecting google-pasta>=0.1.1 (from tensorflow~=2.17.0->pytdml@ git+https://github.com/openrsgis/pytdml.git->pytdml[torch]@ git+https://github.com/openrsgis/pytdml.git)\r\n",
      "  Using cached google_pasta-0.2.0-py3-none-any.whl.metadata (814 bytes)\r\n",
      "Collecting h5py>=3.10.0 (from tensorflow~=2.17.0->pytdml@ git+https://github.com/openrsgis/pytdml.git->pytdml[torch]@ git+https://github.com/openrsgis/pytdml.git)\r\n",
      "  Using cached h5py-3.13.0-cp310-cp310-manylinux_2_17_x86_64.manylinux2014_x86_64.whl.metadata (2.5 kB)\r\n",
      "Collecting libclang>=13.0.0 (from tensorflow~=2.17.0->pytdml@ git+https://github.com/openrsgis/pytdml.git->pytdml[torch]@ git+https://github.com/openrsgis/pytdml.git)\r\n",
      "  Using cached libclang-18.1.1-py2.py3-none-manylinux2010_x86_64.whl.metadata (5.2 kB)\r\n",
      "Collecting ml-dtypes<0.5.0,>=0.3.1 (from tensorflow~=2.17.0->pytdml@ git+https://github.com/openrsgis/pytdml.git->pytdml[torch]@ git+https://github.com/openrsgis/pytdml.git)\r\n",
      "  Using cached ml_dtypes-0.4.1-cp310-cp310-manylinux_2_17_x86_64.manylinux2014_x86_64.whl.metadata (20 kB)\r\n",
      "Collecting opt-einsum>=2.3.2 (from tensorflow~=2.17.0->pytdml@ git+https://github.com/openrsgis/pytdml.git->pytdml[torch]@ git+https://github.com/openrsgis/pytdml.git)\r\n",
      "  Using cached opt_einsum-3.4.0-py3-none-any.whl.metadata (6.3 kB)\r\n",
      "Collecting protobuf!=4.21.0,!=4.21.1,!=4.21.2,!=4.21.3,!=4.21.4,!=4.21.5,<5.0.0dev,>=3.20.3 (from tensorflow~=2.17.0->pytdml@ git+https://github.com/openrsgis/pytdml.git->pytdml[torch]@ git+https://github.com/openrsgis/pytdml.git)\r\n",
      "  Using cached protobuf-4.25.6-cp37-abi3-manylinux2014_x86_64.whl.metadata (541 bytes)\r\n",
      "Requirement already satisfied: six>=1.12.0 in /home/boo/.virtualenvs/ogc-events/lib/python3.10/site-packages (from tensorflow~=2.17.0->pytdml@ git+https://github.com/openrsgis/pytdml.git->pytdml[torch]@ git+https://github.com/openrsgis/pytdml.git) (1.17.0)\r\n",
      "Collecting termcolor>=1.1.0 (from tensorflow~=2.17.0->pytdml@ git+https://github.com/openrsgis/pytdml.git->pytdml[torch]@ git+https://github.com/openrsgis/pytdml.git)\r\n",
      "  Using cached termcolor-2.5.0-py3-none-any.whl.metadata (6.1 kB)\r\n",
      "Collecting wrapt>=1.11.0 (from tensorflow~=2.17.0->pytdml@ git+https://github.com/openrsgis/pytdml.git->pytdml[torch]@ git+https://github.com/openrsgis/pytdml.git)\r\n",
      "  Using cached wrapt-1.17.2-cp310-cp310-manylinux_2_5_x86_64.manylinux1_x86_64.manylinux_2_17_x86_64.manylinux2014_x86_64.whl.metadata (6.4 kB)\r\n",
      "Collecting grpcio<2.0,>=1.24.3 (from tensorflow~=2.17.0->pytdml@ git+https://github.com/openrsgis/pytdml.git->pytdml[torch]@ git+https://github.com/openrsgis/pytdml.git)\r\n",
      "  Using cached grpcio-1.71.0-cp310-cp310-manylinux_2_17_x86_64.manylinux2014_x86_64.whl.metadata (3.8 kB)\r\n",
      "Collecting tensorboard<2.18,>=2.17 (from tensorflow~=2.17.0->pytdml@ git+https://github.com/openrsgis/pytdml.git->pytdml[torch]@ git+https://github.com/openrsgis/pytdml.git)\r\n",
      "  Using cached tensorboard-2.17.1-py3-none-any.whl.metadata (1.6 kB)\r\n",
      "Collecting keras>=3.2.0 (from tensorflow~=2.17.0->pytdml@ git+https://github.com/openrsgis/pytdml.git->pytdml[torch]@ git+https://github.com/openrsgis/pytdml.git)\r\n",
      "  Using cached keras-3.9.0-py3-none-any.whl.metadata (6.1 kB)\r\n",
      "Collecting tensorflow-io-gcs-filesystem>=0.23.1 (from tensorflow~=2.17.0->pytdml@ git+https://github.com/openrsgis/pytdml.git->pytdml[torch]@ git+https://github.com/openrsgis/pytdml.git)\r\n",
      "  Using cached tensorflow_io_gcs_filesystem-0.37.1-cp310-cp310-manylinux_2_17_x86_64.manylinux2014_x86_64.whl.metadata (14 kB)\r\n",
      "  Using cached tensorflow_io_gcs_filesystem-0.36.0-cp310-cp310-manylinux_2_17_x86_64.manylinux2014_x86_64.whl.metadata (14 kB)\r\n",
      "Collecting filelock (from torch~=2.3.1->pytdml@ git+https://github.com/openrsgis/pytdml.git->pytdml[torch]@ git+https://github.com/openrsgis/pytdml.git)\r\n",
      "  Using cached filelock-3.18.0-py3-none-any.whl.metadata (2.9 kB)\r\n",
      "Collecting sympy (from torch~=2.3.1->pytdml@ git+https://github.com/openrsgis/pytdml.git->pytdml[torch]@ git+https://github.com/openrsgis/pytdml.git)\r\n",
      "  Using cached sympy-1.13.3-py3-none-any.whl.metadata (12 kB)\r\n",
      "Collecting networkx (from torch~=2.3.1->pytdml@ git+https://github.com/openrsgis/pytdml.git->pytdml[torch]@ git+https://github.com/openrsgis/pytdml.git)\r\n",
      "  Using cached networkx-3.4.2-py3-none-any.whl.metadata (6.3 kB)\r\n",
      "Requirement already satisfied: jinja2 in /home/boo/.virtualenvs/ogc-events/lib/python3.10/site-packages (from torch~=2.3.1->pytdml@ git+https://github.com/openrsgis/pytdml.git->pytdml[torch]@ git+https://github.com/openrsgis/pytdml.git) (3.1.6)\r\n",
      "Collecting nvidia-cuda-nvrtc-cu12==12.1.105 (from torch~=2.3.1->pytdml@ git+https://github.com/openrsgis/pytdml.git->pytdml[torch]@ git+https://github.com/openrsgis/pytdml.git)\r\n",
      "  Using cached nvidia_cuda_nvrtc_cu12-12.1.105-py3-none-manylinux1_x86_64.whl.metadata (1.5 kB)\r\n",
      "Collecting nvidia-cuda-runtime-cu12==12.1.105 (from torch~=2.3.1->pytdml@ git+https://github.com/openrsgis/pytdml.git->pytdml[torch]@ git+https://github.com/openrsgis/pytdml.git)\r\n",
      "  Using cached nvidia_cuda_runtime_cu12-12.1.105-py3-none-manylinux1_x86_64.whl.metadata (1.5 kB)\r\n",
      "Collecting nvidia-cuda-cupti-cu12==12.1.105 (from torch~=2.3.1->pytdml@ git+https://github.com/openrsgis/pytdml.git->pytdml[torch]@ git+https://github.com/openrsgis/pytdml.git)\r\n",
      "  Using cached nvidia_cuda_cupti_cu12-12.1.105-py3-none-manylinux1_x86_64.whl.metadata (1.6 kB)\r\n",
      "Collecting nvidia-cudnn-cu12==8.9.2.26 (from torch~=2.3.1->pytdml@ git+https://github.com/openrsgis/pytdml.git->pytdml[torch]@ git+https://github.com/openrsgis/pytdml.git)\r\n",
      "  Using cached nvidia_cudnn_cu12-8.9.2.26-py3-none-manylinux1_x86_64.whl.metadata (1.6 kB)\r\n",
      "Collecting nvidia-cublas-cu12==12.1.3.1 (from torch~=2.3.1->pytdml@ git+https://github.com/openrsgis/pytdml.git->pytdml[torch]@ git+https://github.com/openrsgis/pytdml.git)\r\n",
      "  Using cached nvidia_cublas_cu12-12.1.3.1-py3-none-manylinux1_x86_64.whl.metadata (1.5 kB)\r\n",
      "Collecting nvidia-cufft-cu12==11.0.2.54 (from torch~=2.3.1->pytdml@ git+https://github.com/openrsgis/pytdml.git->pytdml[torch]@ git+https://github.com/openrsgis/pytdml.git)\r\n",
      "  Using cached nvidia_cufft_cu12-11.0.2.54-py3-none-manylinux1_x86_64.whl.metadata (1.5 kB)\r\n",
      "Collecting nvidia-curand-cu12==10.3.2.106 (from torch~=2.3.1->pytdml@ git+https://github.com/openrsgis/pytdml.git->pytdml[torch]@ git+https://github.com/openrsgis/pytdml.git)\r\n",
      "  Using cached nvidia_curand_cu12-10.3.2.106-py3-none-manylinux1_x86_64.whl.metadata (1.5 kB)\r\n",
      "Collecting nvidia-cusolver-cu12==11.4.5.107 (from torch~=2.3.1->pytdml@ git+https://github.com/openrsgis/pytdml.git->pytdml[torch]@ git+https://github.com/openrsgis/pytdml.git)\r\n",
      "  Using cached nvidia_cusolver_cu12-11.4.5.107-py3-none-manylinux1_x86_64.whl.metadata (1.6 kB)\r\n",
      "Collecting nvidia-cusparse-cu12==12.1.0.106 (from torch~=2.3.1->pytdml@ git+https://github.com/openrsgis/pytdml.git->pytdml[torch]@ git+https://github.com/openrsgis/pytdml.git)\r\n",
      "  Using cached nvidia_cusparse_cu12-12.1.0.106-py3-none-manylinux1_x86_64.whl.metadata (1.6 kB)\r\n",
      "Collecting nvidia-nccl-cu12==2.20.5 (from torch~=2.3.1->pytdml@ git+https://github.com/openrsgis/pytdml.git->pytdml[torch]@ git+https://github.com/openrsgis/pytdml.git)\r\n",
      "  Using cached nvidia_nccl_cu12-2.20.5-py3-none-manylinux2014_x86_64.whl.metadata (1.8 kB)\r\n",
      "Collecting nvidia-nvtx-cu12==12.1.105 (from torch~=2.3.1->pytdml@ git+https://github.com/openrsgis/pytdml.git->pytdml[torch]@ git+https://github.com/openrsgis/pytdml.git)\r\n",
      "  Using cached nvidia_nvtx_cu12-12.1.105-py3-none-manylinux1_x86_64.whl.metadata (1.7 kB)\r\n",
      "Collecting triton==2.3.1 (from torch~=2.3.1->pytdml@ git+https://github.com/openrsgis/pytdml.git->pytdml[torch]@ git+https://github.com/openrsgis/pytdml.git)\r\n",
      "  Using cached triton-2.3.1-cp310-cp310-manylinux_2_17_x86_64.manylinux2014_x86_64.whl.metadata (1.4 kB)\r\n",
      "Collecting nvidia-nvjitlink-cu12 (from nvidia-cusolver-cu12==11.4.5.107->torch~=2.3.1->pytdml@ git+https://github.com/openrsgis/pytdml.git->pytdml[torch]@ git+https://github.com/openrsgis/pytdml.git)\r\n",
      "  Using cached nvidia_nvjitlink_cu12-12.8.93-py3-none-manylinux2010_x86_64.manylinux_2_12_x86_64.whl.metadata (1.7 kB)\r\n",
      "Collecting aioitertools<1.0.0,>=0.5.1 (from aiobotocore<3.0.0,>=2.5.4->s3fs~=2024.9.0->pytdml@ git+https://github.com/openrsgis/pytdml.git->pytdml[torch]@ git+https://github.com/openrsgis/pytdml.git)\r\n",
      "  Using cached aioitertools-0.12.0-py3-none-any.whl.metadata (3.8 kB)\r\n",
      "INFO: pip is looking at multiple versions of aiobotocore to determine which version is compatible with other requirements. This could take a while.\r\n",
      "Collecting aiobotocore<3.0.0,>=2.5.4 (from s3fs~=2024.9.0->pytdml@ git+https://github.com/openrsgis/pytdml.git->pytdml[torch]@ git+https://github.com/openrsgis/pytdml.git)\r\n",
      "  Using cached aiobotocore-2.21.0-py3-none-any.whl.metadata (24 kB)\r\n",
      "  Using cached aiobotocore-2.20.0-py3-none-any.whl.metadata (23 kB)\r\n",
      "  Using cached aiobotocore-2.19.0-py3-none-any.whl.metadata (23 kB)\r\n",
      "  Using cached aiobotocore-2.18.0-py3-none-any.whl.metadata (23 kB)\r\n",
      "  Using cached aiobotocore-2.17.0-py3-none-any.whl.metadata (23 kB)\r\n",
      "  Using cached aiobotocore-2.16.1-py3-none-any.whl.metadata (23 kB)\r\n",
      "  Using cached aiobotocore-2.16.0-py3-none-any.whl.metadata (23 kB)\r\n",
      "INFO: pip is still looking at multiple versions of aiobotocore to determine which version is compatible with other requirements. This could take a while.\r\n",
      "  Using cached aiobotocore-2.15.2-py3-none-any.whl.metadata (23 kB)\r\n",
      "  Using cached aiobotocore-2.15.1-py3-none-any.whl.metadata (23 kB)\r\n",
      "  Using cached aiobotocore-2.15.0-py3-none-any.whl.metadata (23 kB)\r\n",
      "  Using cached aiobotocore-2.14.0-py3-none-any.whl.metadata (23 kB)\r\n",
      "  Using cached aiobotocore-2.13.3-py3-none-any.whl.metadata (22 kB)\r\n",
      "Collecting aiohappyeyeballs>=2.3.0 (from aiohttp!=4.0.0a0,!=4.0.0a1->s3fs~=2024.9.0->pytdml@ git+https://github.com/openrsgis/pytdml.git->pytdml[torch]@ git+https://github.com/openrsgis/pytdml.git)\r\n",
      "  Using cached aiohappyeyeballs-2.6.1-py3-none-any.whl.metadata (5.9 kB)\r\n",
      "Collecting aiosignal>=1.1.2 (from aiohttp!=4.0.0a0,!=4.0.0a1->s3fs~=2024.9.0->pytdml@ git+https://github.com/openrsgis/pytdml.git->pytdml[torch]@ git+https://github.com/openrsgis/pytdml.git)\r\n",
      "  Using cached aiosignal-1.3.2-py2.py3-none-any.whl.metadata (3.8 kB)\r\n",
      "Collecting async-timeout<6.0,>=4.0 (from aiohttp!=4.0.0a0,!=4.0.0a1->s3fs~=2024.9.0->pytdml@ git+https://github.com/openrsgis/pytdml.git->pytdml[torch]@ git+https://github.com/openrsgis/pytdml.git)\r\n",
      "  Using cached async_timeout-5.0.1-py3-none-any.whl.metadata (5.1 kB)\r\n",
      "Collecting frozenlist>=1.1.1 (from aiohttp!=4.0.0a0,!=4.0.0a1->s3fs~=2024.9.0->pytdml@ git+https://github.com/openrsgis/pytdml.git->pytdml[torch]@ git+https://github.com/openrsgis/pytdml.git)\r\n",
      "  Using cached frozenlist-1.5.0-cp310-cp310-manylinux_2_5_x86_64.manylinux1_x86_64.manylinux_2_17_x86_64.manylinux2014_x86_64.whl.metadata (13 kB)\r\n",
      "Collecting multidict<7.0,>=4.5 (from aiohttp!=4.0.0a0,!=4.0.0a1->s3fs~=2024.9.0->pytdml@ git+https://github.com/openrsgis/pytdml.git->pytdml[torch]@ git+https://github.com/openrsgis/pytdml.git)\r\n",
      "  Using cached multidict-6.2.0-cp310-cp310-manylinux_2_17_x86_64.manylinux2014_x86_64.whl.metadata (4.9 kB)\r\n",
      "Collecting propcache>=0.2.0 (from aiohttp!=4.0.0a0,!=4.0.0a1->s3fs~=2024.9.0->pytdml@ git+https://github.com/openrsgis/pytdml.git->pytdml[torch]@ git+https://github.com/openrsgis/pytdml.git)\r\n",
      "  Using cached propcache-0.3.0-cp310-cp310-manylinux_2_17_x86_64.manylinux2014_x86_64.whl.metadata (10 kB)\r\n",
      "Collecting yarl<2.0,>=1.17.0 (from aiohttp!=4.0.0a0,!=4.0.0a1->s3fs~=2024.9.0->pytdml@ git+https://github.com/openrsgis/pytdml.git->pytdml[torch]@ git+https://github.com/openrsgis/pytdml.git)\r\n",
      "  Using cached yarl-1.18.3-cp310-cp310-manylinux_2_17_x86_64.manylinux2014_x86_64.whl.metadata (69 kB)\r\n",
      "Requirement already satisfied: wheel<1.0,>=0.23.0 in /home/boo/.virtualenvs/ogc-events/lib/python3.10/site-packages (from astunparse>=1.6.0->tensorflow~=2.17.0->pytdml@ git+https://github.com/openrsgis/pytdml.git->pytdml[torch]@ git+https://github.com/openrsgis/pytdml.git) (0.45.1)\r\n",
      "Collecting rich (from keras>=3.2.0->tensorflow~=2.17.0->pytdml@ git+https://github.com/openrsgis/pytdml.git->pytdml[torch]@ git+https://github.com/openrsgis/pytdml.git)\r\n",
      "  Using cached rich-13.9.4-py3-none-any.whl.metadata (18 kB)\r\n",
      "Collecting namex (from keras>=3.2.0->tensorflow~=2.17.0->pytdml@ git+https://github.com/openrsgis/pytdml.git->pytdml[torch]@ git+https://github.com/openrsgis/pytdml.git)\r\n",
      "  Using cached namex-0.0.8-py3-none-any.whl.metadata (246 bytes)\r\n",
      "Collecting optree (from keras>=3.2.0->tensorflow~=2.17.0->pytdml@ git+https://github.com/openrsgis/pytdml.git->pytdml[torch]@ git+https://github.com/openrsgis/pytdml.git)\r\n",
      "  Using cached optree-0.14.1-cp310-cp310-manylinux_2_17_x86_64.manylinux2014_x86_64.whl.metadata (49 kB)\r\n",
      "Collecting markdown>=2.6.8 (from tensorboard<2.18,>=2.17->tensorflow~=2.17.0->pytdml@ git+https://github.com/openrsgis/pytdml.git->pytdml[torch]@ git+https://github.com/openrsgis/pytdml.git)\r\n",
      "  Using cached Markdown-3.7-py3-none-any.whl.metadata (7.0 kB)\r\n",
      "Collecting tensorboard-data-server<0.8.0,>=0.7.0 (from tensorboard<2.18,>=2.17->tensorflow~=2.17.0->pytdml@ git+https://github.com/openrsgis/pytdml.git->pytdml[torch]@ git+https://github.com/openrsgis/pytdml.git)\r\n",
      "  Using cached tensorboard_data_server-0.7.2-py3-none-manylinux_2_31_x86_64.whl.metadata (1.1 kB)\r\n",
      "Collecting werkzeug>=1.0.1 (from tensorboard<2.18,>=2.17->tensorflow~=2.17.0->pytdml@ git+https://github.com/openrsgis/pytdml.git->pytdml[torch]@ git+https://github.com/openrsgis/pytdml.git)\r\n",
      "  Using cached werkzeug-3.1.3-py3-none-any.whl.metadata (3.7 kB)\r\n",
      "Requirement already satisfied: argon2-cffi-bindings in /home/boo/.virtualenvs/ogc-events/lib/python3.10/site-packages (from argon2-cffi->minio~=7.2.7->pytdml@ git+https://github.com/openrsgis/pytdml.git->pytdml[torch]@ git+https://github.com/openrsgis/pytdml.git) (21.2.0)\r\n",
      "Requirement already satisfied: MarkupSafe>=2.0 in /home/boo/.virtualenvs/ogc-events/lib/python3.10/site-packages (from jinja2->torch~=2.3.1->pytdml@ git+https://github.com/openrsgis/pytdml.git->pytdml[torch]@ git+https://github.com/openrsgis/pytdml.git) (3.0.2)\r\n",
      "Collecting mpmath<1.4,>=1.1.0 (from sympy->torch~=2.3.1->pytdml@ git+https://github.com/openrsgis/pytdml.git->pytdml[torch]@ git+https://github.com/openrsgis/pytdml.git)\r\n",
      "  Using cached mpmath-1.3.0-py3-none-any.whl.metadata (8.6 kB)\r\n",
      "Requirement already satisfied: cffi>=1.0.1 in /home/boo/.virtualenvs/ogc-events/lib/python3.10/site-packages (from argon2-cffi-bindings->argon2-cffi->minio~=7.2.7->pytdml@ git+https://github.com/openrsgis/pytdml.git->pytdml[torch]@ git+https://github.com/openrsgis/pytdml.git) (1.17.1)\r\n",
      "Collecting markdown-it-py>=2.2.0 (from rich->keras>=3.2.0->tensorflow~=2.17.0->pytdml@ git+https://github.com/openrsgis/pytdml.git->pytdml[torch]@ git+https://github.com/openrsgis/pytdml.git)\r\n",
      "  Using cached markdown_it_py-3.0.0-py3-none-any.whl.metadata (6.9 kB)\r\n",
      "Requirement already satisfied: pygments<3.0.0,>=2.13.0 in /home/boo/.virtualenvs/ogc-events/lib/python3.10/site-packages (from rich->keras>=3.2.0->tensorflow~=2.17.0->pytdml@ git+https://github.com/openrsgis/pytdml.git->pytdml[torch]@ git+https://github.com/openrsgis/pytdml.git) (2.19.1)\r\n",
      "Requirement already satisfied: pycparser in /home/boo/.virtualenvs/ogc-events/lib/python3.10/site-packages (from cffi>=1.0.1->argon2-cffi-bindings->argon2-cffi->minio~=7.2.7->pytdml@ git+https://github.com/openrsgis/pytdml.git->pytdml[torch]@ git+https://github.com/openrsgis/pytdml.git) (2.22)\r\n",
      "Collecting mdurl~=0.1 (from markdown-it-py>=2.2.0->rich->keras>=3.2.0->tensorflow~=2.17.0->pytdml@ git+https://github.com/openrsgis/pytdml.git->pytdml[torch]@ git+https://github.com/openrsgis/pytdml.git)\r\n",
      "  Using cached mdurl-0.1.2-py3-none-any.whl.metadata (1.6 kB)\r\n",
      "Using cached boto3-1.34.162-py3-none-any.whl (139 kB)\r\n",
      "Using cached geojson-3.1.0-py3-none-any.whl (15 kB)\r\n",
      "Using cached matplotlib-3.9.4-cp310-cp310-manylinux_2_17_x86_64.manylinux2014_x86_64.whl (8.3 MB)\r\n",
      "Using cached minio-7.2.15-py3-none-any.whl (95 kB)\r\n",
      "Using cached numpy-1.26.4-cp310-cp310-manylinux_2_17_x86_64.manylinux2014_x86_64.whl (18.2 MB)\r\n",
      "Using cached opencv_python-4.10.0.84-cp37-abi3-manylinux_2_17_x86_64.manylinux2014_x86_64.whl (62.5 MB)\r\n",
      "Using cached pillow-10.4.0-cp310-cp310-manylinux_2_28_x86_64.whl (4.5 MB)\r\n",
      "Using cached pydantic-2.8.2-py3-none-any.whl (423 kB)\r\n",
      "Using cached pydantic_core-2.20.1-cp310-cp310-manylinux_2_17_x86_64.manylinux2014_x86_64.whl (2.1 MB)\r\n",
      "Using cached pystac-1.10.1-py3-none-any.whl (182 kB)\r\n",
      "Using cached rasterio-1.3.11-cp310-cp310-manylinux_2_17_x86_64.manylinux2014_x86_64.whl (21.7 MB)\r\n",
      "Using cached s3fs-2024.9.0-py3-none-any.whl (29 kB)\r\n",
      "Using cached fsspec-2024.9.0-py3-none-any.whl (179 kB)\r\n",
      "Using cached tensorflow-2.17.1-cp310-cp310-manylinux_2_17_x86_64.manylinux2014_x86_64.whl (601.3 MB)\r\n",
      "Using cached tensorflow_io-0.36.0-cp310-cp310-manylinux_2_17_x86_64.manylinux2014_x86_64.whl (49.4 MB)\r\n",
      "Using cached tensorflow_io_gcs_filesystem-0.36.0-cp310-cp310-manylinux_2_17_x86_64.manylinux2014_x86_64.whl (5.1 MB)\r\n",
      "Using cached torch-2.3.1-cp310-cp310-manylinux1_x86_64.whl (779.1 MB)\r\n",
      "Using cached nvidia_cublas_cu12-12.1.3.1-py3-none-manylinux1_x86_64.whl (410.6 MB)\r\n",
      "Using cached nvidia_cuda_cupti_cu12-12.1.105-py3-none-manylinux1_x86_64.whl (14.1 MB)\r\n",
      "Using cached nvidia_cuda_nvrtc_cu12-12.1.105-py3-none-manylinux1_x86_64.whl (23.7 MB)\r\n",
      "Using cached nvidia_cuda_runtime_cu12-12.1.105-py3-none-manylinux1_x86_64.whl (823 kB)\r\n",
      "Using cached nvidia_cudnn_cu12-8.9.2.26-py3-none-manylinux1_x86_64.whl (731.7 MB)\r\n",
      "Using cached nvidia_cufft_cu12-11.0.2.54-py3-none-manylinux1_x86_64.whl (121.6 MB)\r\n",
      "Using cached nvidia_curand_cu12-10.3.2.106-py3-none-manylinux1_x86_64.whl (56.5 MB)\r\n",
      "Using cached nvidia_cusolver_cu12-11.4.5.107-py3-none-manylinux1_x86_64.whl (124.2 MB)\r\n",
      "Using cached nvidia_cusparse_cu12-12.1.0.106-py3-none-manylinux1_x86_64.whl (196.0 MB)\r\n",
      "Using cached nvidia_nccl_cu12-2.20.5-py3-none-manylinux2014_x86_64.whl (176.2 MB)\r\n",
      "Using cached nvidia_nvtx_cu12-12.1.105-py3-none-manylinux1_x86_64.whl (99 kB)\r\n",
      "Using cached triton-2.3.1-cp310-cp310-manylinux_2_17_x86_64.manylinux2014_x86_64.whl (168.1 MB)\r\n",
      "Using cached torchdata-0.7.1-cp310-cp310-manylinux_2_17_x86_64.manylinux2014_x86_64.whl (4.7 MB)\r\n",
      "Using cached torchvision-0.18.1-cp310-cp310-manylinux1_x86_64.whl (7.0 MB)\r\n",
      "Using cached tqdm-4.66.6-py3-none-any.whl (78 kB)\r\n",
      "Using cached typing_extensions-4.11.0-py3-none-any.whl (34 kB)\r\n",
      "Using cached urllib3-1.25.11-py2.py3-none-any.whl (127 kB)\r\n",
      "Using cached absl_py-2.2.0-py3-none-any.whl (276 kB)\r\n",
      "Using cached aiobotocore-2.13.3-py3-none-any.whl (77 kB)\r\n",
      "Using cached aiohttp-3.11.14-cp310-cp310-manylinux_2_17_x86_64.manylinux2014_x86_64.whl (1.6 MB)\r\n",
      "Using cached annotated_types-0.7.0-py3-none-any.whl (13 kB)\r\n",
      "Using cached astunparse-1.6.3-py2.py3-none-any.whl (12 kB)\r\n",
      "Using cached botocore-1.34.162-py3-none-any.whl (12.5 MB)\r\n",
      "Using cached click-8.1.8-py3-none-any.whl (98 kB)\r\n",
      "Using cached cligj-0.7.2-py3-none-any.whl (7.1 kB)\r\n",
      "Using cached contourpy-1.3.1-cp310-cp310-manylinux_2_17_x86_64.manylinux2014_x86_64.whl (324 kB)\r\n",
      "Using cached cycler-0.12.1-py3-none-any.whl (8.3 kB)\r\n",
      "Using cached flatbuffers-25.2.10-py2.py3-none-any.whl (30 kB)\r\n",
      "Using cached fonttools-4.56.0-cp310-cp310-manylinux_2_17_x86_64.manylinux2014_x86_64.whl (4.6 MB)\r\n",
      "Using cached gast-0.6.0-py3-none-any.whl (21 kB)\r\n",
      "Using cached google_pasta-0.2.0-py3-none-any.whl (57 kB)\r\n",
      "Using cached grpcio-1.71.0-cp310-cp310-manylinux_2_17_x86_64.manylinux2014_x86_64.whl (5.9 MB)\r\n",
      "Using cached h5py-3.13.0-cp310-cp310-manylinux_2_17_x86_64.manylinux2014_x86_64.whl (4.5 MB)\r\n",
      "Using cached jmespath-1.0.1-py3-none-any.whl (20 kB)\r\n",
      "Using cached keras-3.9.0-py3-none-any.whl (1.3 MB)\r\n",
      "Using cached kiwisolver-1.4.8-cp310-cp310-manylinux_2_12_x86_64.manylinux2010_x86_64.whl (1.6 MB)\r\n",
      "Using cached libclang-18.1.1-py2.py3-none-manylinux2010_x86_64.whl (24.5 MB)\r\n",
      "Using cached ml_dtypes-0.4.1-cp310-cp310-manylinux_2_17_x86_64.manylinux2014_x86_64.whl (2.2 MB)\r\n",
      "Using cached opt_einsum-3.4.0-py3-none-any.whl (71 kB)\r\n",
      "Using cached protobuf-4.25.6-cp37-abi3-manylinux2014_x86_64.whl (294 kB)\r\n",
      "Downloading pyparsing-3.2.3-py3-none-any.whl (111 kB)\r\n",
      "Using cached s3transfer-0.10.4-py3-none-any.whl (83 kB)\r\n",
      "Using cached snuggs-1.4.7-py3-none-any.whl (5.4 kB)\r\n",
      "Using cached tensorboard-2.17.1-py3-none-any.whl (5.5 MB)\r\n",
      "Using cached termcolor-2.5.0-py3-none-any.whl (7.8 kB)\r\n",
      "Using cached wrapt-1.17.2-cp310-cp310-manylinux_2_5_x86_64.manylinux1_x86_64.manylinux_2_17_x86_64.manylinux2014_x86_64.whl (82 kB)\r\n",
      "Using cached affine-2.4.0-py3-none-any.whl (15 kB)\r\n",
      "Using cached click_plugins-1.1.1-py2.py3-none-any.whl (7.5 kB)\r\n",
      "Using cached filelock-3.18.0-py3-none-any.whl (16 kB)\r\n",
      "Using cached networkx-3.4.2-py3-none-any.whl (1.7 MB)\r\n",
      "Using cached pycryptodome-3.22.0-cp37-abi3-manylinux_2_17_x86_64.manylinux2014_x86_64.whl (2.3 MB)\r\n",
      "Using cached sympy-1.13.3-py3-none-any.whl (6.2 MB)\r\n",
      "Using cached aiohappyeyeballs-2.6.1-py3-none-any.whl (15 kB)\r\n",
      "Using cached aioitertools-0.12.0-py3-none-any.whl (24 kB)\r\n",
      "Using cached aiosignal-1.3.2-py2.py3-none-any.whl (7.6 kB)\r\n",
      "Using cached async_timeout-5.0.1-py3-none-any.whl (6.2 kB)\r\n",
      "Using cached frozenlist-1.5.0-cp310-cp310-manylinux_2_5_x86_64.manylinux1_x86_64.manylinux_2_17_x86_64.manylinux2014_x86_64.whl (241 kB)\r\n",
      "Using cached Markdown-3.7-py3-none-any.whl (106 kB)\r\n",
      "Using cached mpmath-1.3.0-py3-none-any.whl (536 kB)\r\n",
      "Using cached multidict-6.2.0-cp310-cp310-manylinux_2_17_x86_64.manylinux2014_x86_64.whl (129 kB)\r\n",
      "Using cached propcache-0.3.0-cp310-cp310-manylinux_2_17_x86_64.manylinux2014_x86_64.whl (205 kB)\r\n",
      "Using cached tensorboard_data_server-0.7.2-py3-none-manylinux_2_31_x86_64.whl (6.6 MB)\r\n",
      "Using cached werkzeug-3.1.3-py3-none-any.whl (224 kB)\r\n",
      "Using cached yarl-1.18.3-cp310-cp310-manylinux_2_17_x86_64.manylinux2014_x86_64.whl (319 kB)\r\n",
      "Using cached namex-0.0.8-py3-none-any.whl (5.8 kB)\r\n",
      "Using cached nvidia_nvjitlink_cu12-12.8.93-py3-none-manylinux2010_x86_64.manylinux_2_12_x86_64.whl (39.3 MB)\r\n",
      "Using cached optree-0.14.1-cp310-cp310-manylinux_2_17_x86_64.manylinux2014_x86_64.whl (395 kB)\r\n",
      "Using cached rich-13.9.4-py3-none-any.whl (242 kB)\r\n",
      "Using cached markdown_it_py-3.0.0-py3-none-any.whl (87 kB)\r\n",
      "Using cached mdurl-0.1.2-py3-none-any.whl (10.0 kB)\r\n",
      "Building wheels for collected packages: pytdml\r\n",
      "  Building wheel for pytdml (pyproject.toml) ... \u001B[?25ldone\r\n",
      "\u001B[?25h  Created wheel for pytdml: filename=pytdml-1.1.7-py3-none-any.whl size=105894 sha256=e9e1b710b5711c29fdbfcc3614a2df4ae6ef0f76b422e76ec3aa7a237441d28c\r\n",
      "  Stored in directory: /tmp/pip-ephem-wheel-cache-96qe5kgv/wheels/44/46/af/bc7d3d58b7e080eb04f6d7e4220001bd46ef414cfb1243b434\r\n",
      "Successfully built pytdml\r\n",
      "Installing collected packages: namex, mpmath, libclang, flatbuffers, wrapt, werkzeug, urllib3, typing_extensions, tqdm, termcolor, tensorflow-io-gcs-filesystem, tensorboard-data-server, sympy, pyparsing, pycryptodome, protobuf, propcache, Pillow, opt-einsum, nvidia-nvtx-cu12, nvidia-nvjitlink-cu12, nvidia-nccl-cu12, nvidia-curand-cu12, nvidia-cufft-cu12, nvidia-cuda-runtime-cu12, nvidia-cuda-nvrtc-cu12, nvidia-cuda-cupti-cu12, nvidia-cublas-cu12, numpy, networkx, mdurl, markdown, kiwisolver, jmespath, grpcio, google-pasta, geojson, gast, fsspec, frozenlist, fonttools, filelock, cycler, click, async-timeout, astunparse, annotated-types, aioitertools, aiohappyeyeballs, affine, absl-py, triton, tensorflow_io, tensorboard, snuggs, pystac, pydantic-core, optree, opencv-python, nvidia-cusparse-cu12, nvidia-cudnn-cu12, multidict, ml-dtypes, markdown-it-py, h5py, contourpy, cligj, click-plugins, botocore, aiosignal, yarl, s3transfer, rich, rasterio, pydantic, nvidia-cusolver-cu12, matplotlib, torch, minio, keras, boto3, aiohttp, torchvision, torchdata, tensorflow, aiobotocore, s3fs, pytdml\r\n",
      "  Attempting uninstall: urllib3\r\n",
      "    Found existing installation: urllib3 2.3.0\r\n",
      "    Uninstalling urllib3-2.3.0:\r\n",
      "      Successfully uninstalled urllib3-2.3.0\r\n",
      "  Attempting uninstall: typing_extensions\r\n",
      "    Found existing installation: typing_extensions 4.12.2\r\n",
      "    Uninstalling typing_extensions-4.12.2:\r\n",
      "      Successfully uninstalled typing_extensions-4.12.2\r\n",
      "Successfully installed Pillow-10.4.0 absl-py-2.2.0 affine-2.4.0 aiobotocore-2.13.3 aiohappyeyeballs-2.6.1 aiohttp-3.11.14 aioitertools-0.12.0 aiosignal-1.3.2 annotated-types-0.7.0 astunparse-1.6.3 async-timeout-5.0.1 boto3-1.34.162 botocore-1.34.162 click-8.1.8 click-plugins-1.1.1 cligj-0.7.2 contourpy-1.3.1 cycler-0.12.1 filelock-3.18.0 flatbuffers-25.2.10 fonttools-4.56.0 frozenlist-1.5.0 fsspec-2024.9.0 gast-0.6.0 geojson-3.1.0 google-pasta-0.2.0 grpcio-1.71.0 h5py-3.13.0 jmespath-1.0.1 keras-3.9.0 kiwisolver-1.4.8 libclang-18.1.1 markdown-3.7 markdown-it-py-3.0.0 matplotlib-3.9.4 mdurl-0.1.2 minio-7.2.15 ml-dtypes-0.4.1 mpmath-1.3.0 multidict-6.2.0 namex-0.0.8 networkx-3.4.2 numpy-1.26.4 nvidia-cublas-cu12-12.1.3.1 nvidia-cuda-cupti-cu12-12.1.105 nvidia-cuda-nvrtc-cu12-12.1.105 nvidia-cuda-runtime-cu12-12.1.105 nvidia-cudnn-cu12-8.9.2.26 nvidia-cufft-cu12-11.0.2.54 nvidia-curand-cu12-10.3.2.106 nvidia-cusolver-cu12-11.4.5.107 nvidia-cusparse-cu12-12.1.0.106 nvidia-nccl-cu12-2.20.5 nvidia-nvjitlink-cu12-12.8.93 nvidia-nvtx-cu12-12.1.105 opencv-python-4.10.0.84 opt-einsum-3.4.0 optree-0.14.1 propcache-0.3.0 protobuf-4.25.6 pycryptodome-3.22.0 pydantic-2.8.2 pydantic-core-2.20.1 pyparsing-3.2.3 pystac-1.10.1 pytdml-1.1.7 rasterio-1.3.11 rich-13.9.4 s3fs-2024.9.0 s3transfer-0.10.4 snuggs-1.4.7 sympy-1.13.3 tensorboard-2.17.1 tensorboard-data-server-0.7.2 tensorflow-2.17.1 tensorflow-io-gcs-filesystem-0.36.0 tensorflow_io-0.36.0 termcolor-2.5.0 torch-2.3.1 torchdata-0.7.1 torchvision-0.18.1 tqdm-4.66.6 triton-2.3.1 typing_extensions-4.11.0 urllib3-1.25.11 werkzeug-3.1.3 wrapt-1.17.2 yarl-1.18.3\r\n"
     ]
    }
   ],
   "execution_count": 2
  },
  {
   "metadata": {},
   "cell_type": "markdown",
   "source": [
    "## Basic Usage\n",
    "\n",
    "To create a dataset with pytdml, we can do it in two ways: by creating a new dataset directly in the code, or by reading an existing dataset from a file."
   ],
   "id": "184a1c9cd167dcb9"
  },
  {
   "metadata": {
    "ExecuteTime": {
     "end_time": "2025-03-25T11:09:24.942634Z",
     "start_time": "2025-03-25T11:09:17.956845Z"
    }
   },
   "cell_type": "code",
   "source": [
    "from pytdml.type import EOTrainingDataset, AI_EOTrainingData, AI_EOTask, AI_SceneLabel\n",
    "\n",
    "dataset = EOTrainingDataset(\n",
    "    id=\"eotrainingdataset_1\",\n",
    "    name=\"EO Training Dataset Example\",\n",
    "    description=\"This is an example of a training dataset for the pytdml tutorial\",\n",
    "    license=\"CC-BY-SA\",\n",
    "    type=\"AI_EOTrainingDataset\",\n",
    "    data=[AI_EOTrainingData(\n",
    "        id=\"eotrainingdata_1\",\n",
    "        type=\"AI_EOTrainingData\",\n",
    "        data_url=[\"https://example.com/data.tif\"],\n",
    "        labels=[\n",
    "            AI_SceneLabel(\n",
    "                type=\"AI_SceneLabel\",\n",
    "                label_class=\"label_1\"\n",
    "            )\n",
    "        ]\n",
    "    )],\n",
    "    tasks=[AI_EOTask(\n",
    "        id=\"task_1\",\n",
    "        type=\"AI_EOTask\",\n",
    "        task_type=\"classification\"\n",
    "    )]\n",
    ")\n",
    "\n",
    "dataset.to_dict()"
   ],
   "id": "5af8ee83d054eac1",
   "outputs": [
    {
     "name": "stderr",
     "output_type": "stream",
     "text": [
      "2025-03-25 11:09:22.637871: I tensorflow/core/util/port.cc:153] oneDNN custom operations are on. You may see slightly different numerical results due to floating-point round-off errors from different computation orders. To turn them off, set the environment variable `TF_ENABLE_ONEDNN_OPTS=0`.\n",
      "2025-03-25 11:09:22.647038: E external/local_xla/xla/stream_executor/cuda/cuda_fft.cc:485] Unable to register cuFFT factory: Attempting to register factory for plugin cuFFT when one has already been registered\n",
      "2025-03-25 11:09:22.658629: E external/local_xla/xla/stream_executor/cuda/cuda_dnn.cc:8454] Unable to register cuDNN factory: Attempting to register factory for plugin cuDNN when one has already been registered\n",
      "2025-03-25 11:09:22.662020: E external/local_xla/xla/stream_executor/cuda/cuda_blas.cc:1452] Unable to register cuBLAS factory: Attempting to register factory for plugin cuBLAS when one has already been registered\n",
      "2025-03-25 11:09:22.670991: I tensorflow/core/platform/cpu_feature_guard.cc:210] This TensorFlow binary is optimized to use available CPU instructions in performance-critical operations.\n",
      "To enable the following instructions: AVX2 AVX_VNNI FMA, in other operations, rebuild TensorFlow with the appropriate compiler flags.\n",
      "2025-03-25 11:09:23.777573: W tensorflow/compiler/tf2tensorrt/utils/py_utils.cc:38] TF-TRT Warning: Could not find TensorRT\n",
      "/home/boo/.virtualenvs/ogc-events/lib/python3.10/site-packages/tensorflow_io/python/ops/__init__.py:98: UserWarning: unable to load libtensorflow_io_plugins.so: unable to open file: libtensorflow_io_plugins.so, from paths: ['/home/boo/.virtualenvs/ogc-events/lib/python3.10/site-packages/tensorflow_io/python/ops/libtensorflow_io_plugins.so']\n",
      "caused by: ['/home/boo/.virtualenvs/ogc-events/lib/python3.10/site-packages/tensorflow_io/python/ops/libtensorflow_io_plugins.so: undefined symbol: _ZN3tsl8OkStatusEv']\n",
      "  warnings.warn(f\"unable to load libtensorflow_io_plugins.so: {e}\")\n",
      "/home/boo/.virtualenvs/ogc-events/lib/python3.10/site-packages/tensorflow_io/python/ops/__init__.py:104: UserWarning: file system plugins are not loaded: unable to open file: libtensorflow_io.so, from paths: ['/home/boo/.virtualenvs/ogc-events/lib/python3.10/site-packages/tensorflow_io/python/ops/libtensorflow_io.so']\n",
      "caused by: ['/home/boo/.virtualenvs/ogc-events/lib/python3.10/site-packages/tensorflow_io/python/ops/libtensorflow_io.so: undefined symbol: _ZNK10tensorflow4data11DatasetBase8FinalizeEPNS_15OpKernelContextESt8functionIFN4absl12lts_202301258StatusOrIN3tsl4core11RefCountPtrIS1_EEEEvEE']\n",
      "  warnings.warn(f\"file system plugins are not loaded: {e}\")\n"
     ]
    },
    {
     "data": {
      "text/plain": [
       "{'id': 'eotrainingdataset_1',\n",
       " 'name': 'EO Training Dataset Example',\n",
       " 'description': 'This is an example of a training dataset for the pytdml tutorial',\n",
       " 'license': 'CC-BY-SA',\n",
       " 'tasks': [{'id': 'task_1',\n",
       "   'type': 'AI_EOTask',\n",
       "   'taskType': 'classification'}],\n",
       " 'data': [{'type': 'AI_EOTrainingData',\n",
       "   'id': 'eotrainingdata_1',\n",
       "   'labels': [{'type': 'AI_SceneLabel',\n",
       "     'isNegative': False,\n",
       "     'confidence': 1.0,\n",
       "     'class': 'label_1'}],\n",
       "   'dataURL': ['https://example.com/data.tif']}],\n",
       " 'type': 'AI_EOTrainingDataset'}"
      ]
     },
     "execution_count": 3,
     "metadata": {},
     "output_type": "execute_result"
    }
   ],
   "execution_count": 3
  },
  {
   "metadata": {},
   "cell_type": "markdown",
   "source": [
    "## Writing and reading from files\n",
    "\n",
    "### Writing to a TrainingDML-AI JSON file\n",
    "We can directly write the dataset into a JSON file, which can be verified using jsonschema"
   ],
   "id": "c3624d08c7ea2f11"
  },
  {
   "metadata": {
    "ExecuteTime": {
     "end_time": "2025-03-25T11:09:31.952724Z",
     "start_time": "2025-03-25T11:09:29.502655Z"
    }
   },
   "cell_type": "code",
   "source": [
    "import jsonschema\n",
    "import requests\n",
    "import pytdml\n",
    "pytdml.io.write_to_json(dataset, \"dataset.json\")\n",
    "\n",
    "remote_schema_url = \"https://raw.githubusercontent.com/opengeospatial/TrainingDML-AI_SWG/main/schemas/1.0/json_schema/ai_eoTrainingDataset.json\"\n",
    "response = requests.get(remote_schema_url)\n",
    "remote_schema = response.json()\n",
    "\n",
    "jsonschema.validate(instance=dataset.to_dict(), schema=remote_schema)"
   ],
   "id": "37bd360708332f23",
   "outputs": [],
   "execution_count": 4
  },
  {
   "metadata": {},
   "cell_type": "markdown",
   "source": "### Reading from a TrainingDML-AI JSON file\n",
   "id": "3ce535c41fb09635"
  },
  {
   "metadata": {
    "ExecuteTime": {
     "end_time": "2025-03-25T11:09:34.980077Z",
     "start_time": "2025-03-25T11:09:34.976245Z"
    }
   },
   "cell_type": "code",
   "source": [
    "dataset2 = pytdml.io.read_from_json(\"dataset.json\")\n",
    "\n",
    "dataset == dataset2"
   ],
   "id": "85e2e437f9af2fac",
   "outputs": [
    {
     "data": {
      "text/plain": [
       "True"
      ]
     },
     "execution_count": 5,
     "metadata": {},
     "output_type": "execute_result"
    }
   ],
   "execution_count": 5
  },
  {
   "metadata": {},
   "cell_type": "markdown",
   "source": [
    "## Converting from non TDML formats\n",
    "\n",
    "### Converting from COCO format\n",
    "\n",
    "COCO (Common Objects in Context) is a large-scale object detection, segmentation, and captioning dataset.\n",
    "We can convert a COCO dataset to a TDML dataset using the `convert_coco_to_tdml` function. For more information about this dataset, check the [COCO dataset website](https://cocodataset.org/)."
   ],
   "id": "3f112e61fab183be"
  },
  {
   "metadata": {
    "ExecuteTime": {
     "end_time": "2025-03-25T11:09:41.654925Z",
     "start_time": "2025-03-25T11:09:39.264235Z"
    }
   },
   "cell_type": "code",
   "source": [
    "from pytdml.io.coco_converter import convert_coco_to_tdml\n",
    "import wget\n",
    "\n",
    "coco_url = \"https://raw.githubusercontent.com/openrsgis/pytdml/refs/heads/main/tests/data/coco/panoptic_val2017.json\"\n",
    "coco_file = \"panoptic_val2017.json\"\n",
    "wget.download(coco_url, coco_file)\n",
    "\n",
    "tdml_dataset = convert_coco_to_tdml(coco_file)\n",
    "\n",
    "print(f\"Number of elements in the dataset: {tdml_dataset.amount_of_training_data}\")"
   ],
   "id": "5d8ea67d4a694184",
   "outputs": [
    {
     "name": "stdout",
     "output_type": "stream",
     "text": [
      "Number of elements in the dataset: 5000\n"
     ]
    }
   ],
   "execution_count": 6
  },
  {
   "metadata": {},
   "cell_type": "markdown",
   "source": [
    "## Converting from STAC format\n",
    "\n",
    "STAC (SpatioTemporal Asset Catalog) is a standard for describing geospatial assets in a way that is easy to index and discover.\n",
    "We can convert a STAC dataset to a TDML dataset using the `convert_stac_to_tdml` function. For more information about this dataset, check the [STAC dataset website](https://stacspec.org/)."
   ],
   "id": "af641119bd9ffe84"
  },
  {
   "metadata": {
    "ExecuteTime": {
     "end_time": "2025-03-25T11:15:43.599981Z",
     "start_time": "2025-03-25T11:15:42.258639Z"
    }
   },
   "cell_type": "code",
   "source": [
    "from pytdml.io.stac_converter import convert_stac_to_tdml\n",
    "import os\n",
    "\n",
    "stac_base_url = \"https://raw.githubusercontent.com/openrsgis/pytdml/refs/heads/main/tests/data/stac/{}.json\"\n",
    "\n",
    "directory = \"tests/data/stac\"\n",
    "os.makedirs(directory, exist_ok=True)\n",
    "for url in [\"collection\", \"core-item\", \"extended-item\", \"simple-item\"]:\n",
    "    stac_url = stac_base_url.format(url)\n",
    "    stac_file = os.path.join(directory, f\"{url}.json\")\n",
    "    wget.download(stac_url, stac_file)\n",
    "stac_file = \"collection.json\"\n",
    "tdml_dataset = convert_stac_to_tdml(stac_file)\n",
    "\n",
    "print(f\"Number of elements in the dataset: {len(tdml_dataset.data)}\")"
   ],
   "id": "81a0ed5f4bcf2233",
   "outputs": [
    {
     "name": "stdout",
     "output_type": "stream",
     "text": [
      "Downloaded tests/data/stac/collection.json\n",
      "Downloaded tests/data/stac/core-item.json\n",
      "Downloaded tests/data/stac/extended-item.json\n",
      "Downloaded tests/data/stac/simple-item.json\n",
      "Number of elements in the dataset: 3\n"
     ]
    }
   ],
   "execution_count": 9
  },
  {
   "metadata": {},
   "cell_type": "markdown",
   "source": [
    "## Converting from YAML format\n",
    "\n",
    "pytdml can also convert a dataset from a YAML file to a TDML dataset using the `yaml_to_eo_tdml` function. This is not an official encoding of TrainingDML-AI, but it is often preferred for human-readable files."
   ],
   "id": "4e2b7d0f864bb710"
  },
  {
   "metadata": {},
   "cell_type": "code",
   "source": [
    "from pytdml.io.yaml_converter import yaml_to_eo_tdml\n",
    "\n",
    "yaml_url = \"https://raw.githubusercontent.com/openrsgis/pytdml/refs/heads/main/tests/data/yaml/UiT_HCD_California_2017.yml\"\n",
    "yaml_file = \"UiT_HCD_California_2017.yml\"\n",
    "wget.download(yaml_url, yaml_file)\n",
    "\n",
    "tdml_dataset = yaml_to_eo_tdml(yaml_file)\n",
    "\n",
    "print(f\"Number of elements in the dataset: {tdml_dataset.amount_of_training_data}\")"
   ],
   "id": "ee95f4c8a1ba5065",
   "outputs": [],
   "execution_count": null
  },
  {
   "metadata": {},
   "cell_type": "markdown",
   "source": [
    "# Advanced Usage\n",
    "\n",
    "The `pytdml.ml` module provides a set of tools to help you train and evaluate machine learning models using the datasets created using any of the methods described above.\n",
    "\n",
    "This advanced usage is also not part of the standard, but it is an example of what can be used for. During the code sprint we will be working on decoupling this functionality from the main library to later be included in a separate package.\n",
    "\n",
    "## Semantic segmentation"
   ],
   "id": "78df3ada1d5d083e"
  },
  {
   "metadata": {
    "ExecuteTime": {
     "end_time": "2025-03-25T01:31:31.479105Z",
     "start_time": "2025-03-25T01:31:31.322021Z"
    }
   },
   "cell_type": "code",
   "source": [
    "import pytdml\n",
    "import torch\n",
    "from torchvision import transforms\n",
    "\n",
    "training_dataset_url = \"https://raw.githubusercontent.com/openrsgis/pytdml/refs/heads/main/tests/data/semantic_segmentation/GID-5C.json\"\n",
    "training_dataset_file = \"GID-5C.json\"\n",
    "wget.download(training_dataset_url, training_dataset_file)\n",
    "training_dataset = pytdml.io.read_from_json(training_dataset_file)\n",
    "print(\"Load training dataset: \" + training_dataset.name)\n",
    "print(\"Number of training samples: \" + str(training_dataset.amount_of_training_data))\n",
    "print(\"Number of classes: \" + str(training_dataset.number_of_classes))\n",
    "\n",
    "class_map = pytdml.ml.create_class_map(training_dataset)\n",
    "train_set, val_set, test_set = pytdml.ml.split_train_valid_test(training_dataset, 0.7, 0.2, 0.1)  # split dataset\n",
    "train_dataset = pytdml.ml.TorchEOImageSegmentationTD(\n",
    "    train_set,\n",
    "    class_map,\n",
    "    transform=transforms.Compose([\n",
    "        transforms.ToTensor(),\n",
    "        transforms.Normalize(mean=[0.485, 0.456, 0.406], std=[0.229, 0.224, 0.225])\n",
    "    ])\n",
    ")\n",
    "\n",
    "val_dataset = pytdml.ml.TorchEOImageSegmentationTD(\n",
    "    val_set,\n",
    "    class_map,\n",
    "    transform=transforms.Compose([\n",
    "        transforms.ToTensor(),\n",
    "        transforms.Normalize(mean=[0.485, 0.456, 0.406], std=[0.229, 0.224, 0.225])\n",
    "    ])\n",
    ")\n",
    "\n",
    "# Now train_dataset and val_dataset are instances of torch.utils.data.Dataset\n",
    "isinstance(train_dataset, torch.utils.data.Dataset) and \\\n",
    "isinstance(val_dataset, torch.utils.data.Dataset)"
   ],
   "id": "7f65630154bb0e2c",
   "outputs": [
    {
     "name": "stdout",
     "output_type": "stream",
     "text": [
      "Load training dataset: GID-Large-scale Classification\n",
      "Number of training samples: 150\n",
      "Number of classes: 5\n"
     ]
    },
    {
     "data": {
      "text/plain": [
       "True"
      ]
     },
     "execution_count": 75,
     "metadata": {},
     "output_type": "execute_result"
    }
   ],
   "execution_count": 75
  },
  {
   "metadata": {},
   "cell_type": "markdown",
   "source": "For more details about the advanced usage, please visit the official [pytdml tutorial](https://htmlpreview.github.io/?https://github.com/opengeospatial/TrainingDML-AI_SWG/blob/main/pytdml-tutorial/pytdml_tutorial.html).",
   "id": "e9607b5744d1f6c0"
  },
  {
   "metadata": {},
   "cell_type": "markdown",
   "source": [
    "# The tutorial starts now\n",
    "\n",
    "In this tutorial you can find some inconsistencies in the code of the library, or things that we could improve, can you find which ones are they?\n",
    "\n",
    "Trying to run the official tutorial it is also an interesting task, because it might contain references to old versions of the library, and we could also use the chance to open a pull request to update it."
   ],
   "id": "5a99721d63f757c6"
  }
 ],
 "metadata": {
  "kernelspec": {
   "display_name": "Python 3",
   "language": "python",
   "name": "python3"
  },
  "language_info": {
   "codemirror_mode": {
    "name": "ipython",
    "version": 2
   },
   "file_extension": ".py",
   "mimetype": "text/x-python",
   "name": "python",
   "nbconvert_exporter": "python",
   "pygments_lexer": "ipython2",
   "version": "2.7.6"
  }
 },
 "nbformat": 4,
 "nbformat_minor": 5
}
